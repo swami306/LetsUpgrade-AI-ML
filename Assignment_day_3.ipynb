{
  "nbformat": 4,
  "nbformat_minor": 0,
  "metadata": {
    "colab": {
      "name": "Assignment_day_3.ipynb",
      "provenance": []
    },
    "kernelspec": {
      "name": "python3",
      "display_name": "Python 3"
    }
  },
  "cells": [
    {
      "cell_type": "code",
      "metadata": {
        "id": "D8xUjpkvTa5M",
        "colab_type": "code",
        "colab": {
          "base_uri": "https://localhost:8080/",
          "height": 34
        },
        "outputId": "b7e219a3-5b6e-48e8-8da2-1bae1546e1cf"
      },
      "source": [
        "# 1. subtracting two complex numbers.\n",
        "\n",
        "def subComplex(a, b):\n",
        "    return a-b\n",
        "a = complex(2,3)\n",
        "b = complex(3,4)\n",
        "\n",
        "print(a-b)"
      ],
      "execution_count": 12,
      "outputs": [
        {
          "output_type": "stream",
          "text": [
            "(-1-1j)\n"
          ],
          "name": "stdout"
        }
      ]
    },
    {
      "cell_type": "code",
      "metadata": {
        "id": "Kv1InIQWTcYN",
        "colab_type": "code",
        "colab": {
          "base_uri": "https://localhost:8080/",
          "height": 68
        },
        "outputId": "4845ceda-7ac2-4f0e-b925-2b72d54ae0d5"
      },
      "source": [
        "# 2.Finding the fourth root of a number.\n",
        "\n",
        "a = int(input())\n",
        "n = float(input())\n",
        "\n",
        "nthRoot_of_num = a**(1/n)\n",
        "\n",
        "print(nthRoot_of_num)"
      ],
      "execution_count": 18,
      "outputs": [
        {
          "output_type": "stream",
          "text": [
            "9755555653298561\n",
            "4\n",
            "9938.32060402194\n"
          ],
          "name": "stdout"
        }
      ]
    },
    {
      "cell_type": "code",
      "metadata": {
        "id": "TqkVuen4tsv3",
        "colab_type": "code",
        "colab": {
          "base_uri": "https://localhost:8080/",
          "height": 68
        },
        "outputId": "0745ce61-bcdd-49dd-f148-898f9169389d"
      },
      "source": [
        "# 3. swaping two numbers in Python with the help of a temporary variable\n",
        "\n",
        "a = int(input())\n",
        "b = int(input())\n",
        "\n",
        "temp = a\n",
        "\n",
        "a = b\n",
        "b = temp\n",
        "\n",
        "print('a,b after swaping: ',a,b)"
      ],
      "execution_count": 22,
      "outputs": [
        {
          "output_type": "stream",
          "text": [
            "3\n",
            "6\n",
            "a,b after swaping:  6 3\n"
          ],
          "name": "stdout"
        }
      ]
    },
    {
      "cell_type": "code",
      "metadata": {
        "id": "3I4BVw8HvQSb",
        "colab_type": "code",
        "colab": {
          "base_uri": "https://localhost:8080/",
          "height": 68
        },
        "outputId": "c952aa16-9f1e-4b25-e4c7-cc77dfb009aa"
      },
      "source": [
        "# 4. swaping two numbers in Python without using a temporary variable.\n",
        "\n",
        "a = int(input())\n",
        "b = int(input())\n",
        "\n",
        "a,b = b,a\n",
        "\n",
        "print('a,b after swaping: ',a,b)"
      ],
      "execution_count": 23,
      "outputs": [
        {
          "output_type": "stream",
          "text": [
            "3\n",
            "8\n",
            "8 3\n"
          ],
          "name": "stdout"
        }
      ]
    },
    {
      "cell_type": "code",
      "metadata": {
        "id": "-o7HidBzv_hT",
        "colab_type": "code",
        "colab": {
          "base_uri": "https://localhost:8080/",
          "height": 68
        },
        "outputId": "b8562598-4378-4067-a4e6-15a3c03ac816"
      },
      "source": [
        "# 5. converting fahrenheit to kelvin and celsius both.\n",
        "\n",
        "F = float(input(\"Enter Ferenheit (Degree): \"))\n",
        "C = (5 * (F - 32)) / 9\n",
        "K = C +273\n",
        "\n",
        "print('Temperature in kelvin: {:.3f} '.format(K))\n",
        "print('temperature in celcius: {:.3f} '.format(C))\n"
      ],
      "execution_count": 30,
      "outputs": [
        {
          "output_type": "stream",
          "text": [
            "Enter Ferenheit (Degree): 43\n",
            "Temperature in kelvin: 279.111 \n",
            "temperature in celcius: 6.111 \n"
          ],
          "name": "stdout"
        }
      ]
    },
    {
      "cell_type": "code",
      "metadata": {
        "id": "lSoj6Vmw2T-6",
        "colab_type": "code",
        "colab": {
          "base_uri": "https://localhost:8080/",
          "height": 136
        },
        "outputId": "5a2e8ef5-dc81-44cb-c467-73936713a300"
      },
      "source": [
        "# 6. Demonstrating all the available data types in Python.\n",
        "\n",
        "a = 'Hello'\n",
        "b = 57\n",
        "c = 83.76\n",
        "d = 2+3j\n",
        "e = True\n",
        "f = [5,6,'hi',5.5]\n",
        "g = (5,6,9.8,'hello')\n",
        "print(type(a))\n",
        "print(type(b))\n",
        "print(type(c))\n",
        "print(type(d))\n",
        "print(type(e))\n",
        "print(type(f))\n",
        "print(type(g))\n",
        "\n"
      ],
      "execution_count": 33,
      "outputs": [
        {
          "output_type": "stream",
          "text": [
            "<class 'str'>\n",
            "<class 'int'>\n",
            "<class 'float'>\n",
            "<class 'complex'>\n",
            "<class 'bool'>\n",
            "<class 'list'>\n",
            "<class 'tuple'>\n"
          ],
          "name": "stdout"
        }
      ]
    }
  ]
}